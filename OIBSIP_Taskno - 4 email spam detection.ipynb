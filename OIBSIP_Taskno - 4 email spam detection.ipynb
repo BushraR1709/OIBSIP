{
 "cells": [
  {
   "cell_type": "markdown",
   "id": "733a44ac-2569-41d6-9af5-46393ed444d9",
   "metadata": {},
   "source": [
    "# Oasis Infobyte"
   ]
  },
  {
   "cell_type": "markdown",
   "id": "3042ab8b-6897-4323-81e2-64d8c07a9286",
   "metadata": {},
   "source": [
    "# Data Science Internship"
   ]
  },
  {
   "cell_type": "markdown",
   "id": "56bb32bd-e919-48e6-a8d7-174ec8f1173a",
   "metadata": {},
   "source": [
    "# Bushra Rahman"
   ]
  },
  {
   "cell_type": "markdown",
   "id": "2abbc30d-f458-4635-9cfd-ad20eb346e12",
   "metadata": {},
   "source": [
    "# Task - 4 EMAIL SPAM DETECTION WITH MACHINE LEARNING"
   ]
  },
  {
   "cell_type": "markdown",
   "id": "17fbc199-fb0d-4b71-b0fc-40a27281a60c",
   "metadata": {},
   "source": [
    "We’ve all been the recipient of spam emails before. Spam mail, or junk mail, is a type of email\n",
    "that is sent to a massive number of users at one time, frequently containing cryptic\n",
    "messages, scams, or most dangerously, phishing content.\n",
    "In this Project, use Python to build an email spam detector. Then, use machine learning to\n",
    "train the spam detector to recognize and classify emails into spam and non-spam. Let’s get\n",
    "started!"
   ]
  },
  {
   "cell_type": "markdown",
   "id": "1cb5e4df-c891-43ef-8d4a-f11a2b34c954",
   "metadata": {},
   "source": [
    "# Importing Libraries"
   ]
  },
  {
   "cell_type": "code",
   "execution_count": 1,
   "id": "a6f915f7-05a7-4c1c-b44f-90057d323add",
   "metadata": {},
   "outputs": [],
   "source": [
    "import pandas as pd \n",
    "import numpy as np\n",
    "\n",
    "import matplotlib.pyplot as plt\n",
    "\n",
    "from sklearn.feature_extraction.text import CountVectorizer\n",
    "from sklearn.model_selection import train_test_split\n",
    "from sklearn.naive_bayes import MultinomialNB\n",
    "from sklearn.metrics import accuracy_score"
   ]
  },
  {
   "cell_type": "markdown",
   "id": "d7be7715-37d0-4c5b-bb10-d2eadb401f41",
   "metadata": {},
   "source": [
    "# Importing Dataset"
   ]
  },
  {
   "cell_type": "code",
   "execution_count": 2,
   "id": "8eb7c327-6056-48ec-bc7d-3bfa4647ea42",
   "metadata": {},
   "outputs": [],
   "source": [
    "e_data = pd.read_csv(\"spam.csv\", encoding= 'ISO-8859-1')"
   ]
  },
  {
   "cell_type": "code",
   "execution_count": 3,
   "id": "fff2f65a-a6c8-4b18-a62f-27309724c0c0",
   "metadata": {},
   "outputs": [
    {
     "data": {
      "text/html": [
       "<div>\n",
       "<style scoped>\n",
       "    .dataframe tbody tr th:only-of-type {\n",
       "        vertical-align: middle;\n",
       "    }\n",
       "\n",
       "    .dataframe tbody tr th {\n",
       "        vertical-align: top;\n",
       "    }\n",
       "\n",
       "    .dataframe thead th {\n",
       "        text-align: right;\n",
       "    }\n",
       "</style>\n",
       "<table border=\"1\" class=\"dataframe\">\n",
       "  <thead>\n",
       "    <tr style=\"text-align: right;\">\n",
       "      <th></th>\n",
       "      <th>v1</th>\n",
       "      <th>v2</th>\n",
       "      <th>Unnamed: 2</th>\n",
       "      <th>Unnamed: 3</th>\n",
       "      <th>Unnamed: 4</th>\n",
       "    </tr>\n",
       "  </thead>\n",
       "  <tbody>\n",
       "    <tr>\n",
       "      <th>0</th>\n",
       "      <td>ham</td>\n",
       "      <td>Go until jurong point, crazy.. Available only ...</td>\n",
       "      <td>NaN</td>\n",
       "      <td>NaN</td>\n",
       "      <td>NaN</td>\n",
       "    </tr>\n",
       "    <tr>\n",
       "      <th>1</th>\n",
       "      <td>ham</td>\n",
       "      <td>Ok lar... Joking wif u oni...</td>\n",
       "      <td>NaN</td>\n",
       "      <td>NaN</td>\n",
       "      <td>NaN</td>\n",
       "    </tr>\n",
       "    <tr>\n",
       "      <th>2</th>\n",
       "      <td>spam</td>\n",
       "      <td>Free entry in 2 a wkly comp to win FA Cup fina...</td>\n",
       "      <td>NaN</td>\n",
       "      <td>NaN</td>\n",
       "      <td>NaN</td>\n",
       "    </tr>\n",
       "    <tr>\n",
       "      <th>3</th>\n",
       "      <td>ham</td>\n",
       "      <td>U dun say so early hor... U c already then say...</td>\n",
       "      <td>NaN</td>\n",
       "      <td>NaN</td>\n",
       "      <td>NaN</td>\n",
       "    </tr>\n",
       "    <tr>\n",
       "      <th>4</th>\n",
       "      <td>ham</td>\n",
       "      <td>Nah I don't think he goes to usf, he lives aro...</td>\n",
       "      <td>NaN</td>\n",
       "      <td>NaN</td>\n",
       "      <td>NaN</td>\n",
       "    </tr>\n",
       "  </tbody>\n",
       "</table>\n",
       "</div>"
      ],
      "text/plain": [
       "     v1                                                 v2 Unnamed: 2  \\\n",
       "0   ham  Go until jurong point, crazy.. Available only ...        NaN   \n",
       "1   ham                      Ok lar... Joking wif u oni...        NaN   \n",
       "2  spam  Free entry in 2 a wkly comp to win FA Cup fina...        NaN   \n",
       "3   ham  U dun say so early hor... U c already then say...        NaN   \n",
       "4   ham  Nah I don't think he goes to usf, he lives aro...        NaN   \n",
       "\n",
       "  Unnamed: 3 Unnamed: 4  \n",
       "0        NaN        NaN  \n",
       "1        NaN        NaN  \n",
       "2        NaN        NaN  \n",
       "3        NaN        NaN  \n",
       "4        NaN        NaN  "
      ]
     },
     "execution_count": 3,
     "metadata": {},
     "output_type": "execute_result"
    }
   ],
   "source": [
    "e_data.head(5)"
   ]
  },
  {
   "cell_type": "code",
   "execution_count": 4,
   "id": "38e80189-6b48-4a88-a0c2-666f0fddf7ba",
   "metadata": {},
   "outputs": [
    {
     "data": {
      "text/html": [
       "<div>\n",
       "<style scoped>\n",
       "    .dataframe tbody tr th:only-of-type {\n",
       "        vertical-align: middle;\n",
       "    }\n",
       "\n",
       "    .dataframe tbody tr th {\n",
       "        vertical-align: top;\n",
       "    }\n",
       "\n",
       "    .dataframe thead th {\n",
       "        text-align: right;\n",
       "    }\n",
       "</style>\n",
       "<table border=\"1\" class=\"dataframe\">\n",
       "  <thead>\n",
       "    <tr style=\"text-align: right;\">\n",
       "      <th></th>\n",
       "      <th>v1</th>\n",
       "      <th>v2</th>\n",
       "      <th>Unnamed: 2</th>\n",
       "      <th>Unnamed: 3</th>\n",
       "      <th>Unnamed: 4</th>\n",
       "    </tr>\n",
       "  </thead>\n",
       "  <tbody>\n",
       "    <tr>\n",
       "      <th>5567</th>\n",
       "      <td>spam</td>\n",
       "      <td>This is the 2nd time we have tried 2 contact u...</td>\n",
       "      <td>NaN</td>\n",
       "      <td>NaN</td>\n",
       "      <td>NaN</td>\n",
       "    </tr>\n",
       "    <tr>\n",
       "      <th>5568</th>\n",
       "      <td>ham</td>\n",
       "      <td>Will Ì_ b going to esplanade fr home?</td>\n",
       "      <td>NaN</td>\n",
       "      <td>NaN</td>\n",
       "      <td>NaN</td>\n",
       "    </tr>\n",
       "    <tr>\n",
       "      <th>5569</th>\n",
       "      <td>ham</td>\n",
       "      <td>Pity, * was in mood for that. So...any other s...</td>\n",
       "      <td>NaN</td>\n",
       "      <td>NaN</td>\n",
       "      <td>NaN</td>\n",
       "    </tr>\n",
       "    <tr>\n",
       "      <th>5570</th>\n",
       "      <td>ham</td>\n",
       "      <td>The guy did some bitching but I acted like i'd...</td>\n",
       "      <td>NaN</td>\n",
       "      <td>NaN</td>\n",
       "      <td>NaN</td>\n",
       "    </tr>\n",
       "    <tr>\n",
       "      <th>5571</th>\n",
       "      <td>ham</td>\n",
       "      <td>Rofl. Its true to its name</td>\n",
       "      <td>NaN</td>\n",
       "      <td>NaN</td>\n",
       "      <td>NaN</td>\n",
       "    </tr>\n",
       "  </tbody>\n",
       "</table>\n",
       "</div>"
      ],
      "text/plain": [
       "        v1                                                 v2 Unnamed: 2  \\\n",
       "5567  spam  This is the 2nd time we have tried 2 contact u...        NaN   \n",
       "5568   ham              Will Ì_ b going to esplanade fr home?        NaN   \n",
       "5569   ham  Pity, * was in mood for that. So...any other s...        NaN   \n",
       "5570   ham  The guy did some bitching but I acted like i'd...        NaN   \n",
       "5571   ham                         Rofl. Its true to its name        NaN   \n",
       "\n",
       "     Unnamed: 3 Unnamed: 4  \n",
       "5567        NaN        NaN  \n",
       "5568        NaN        NaN  \n",
       "5569        NaN        NaN  \n",
       "5570        NaN        NaN  \n",
       "5571        NaN        NaN  "
      ]
     },
     "execution_count": 4,
     "metadata": {},
     "output_type": "execute_result"
    }
   ],
   "source": [
    "e_data.tail(5)"
   ]
  },
  {
   "cell_type": "code",
   "execution_count": 5,
   "id": "556455de-c1bc-4911-b27f-4ad31b35d4bd",
   "metadata": {},
   "outputs": [
    {
     "name": "stdout",
     "output_type": "stream",
     "text": [
      "<class 'pandas.core.frame.DataFrame'>\n",
      "RangeIndex: 5572 entries, 0 to 5571\n",
      "Data columns (total 5 columns):\n",
      " #   Column      Non-Null Count  Dtype \n",
      "---  ------      --------------  ----- \n",
      " 0   v1          5572 non-null   object\n",
      " 1   v2          5572 non-null   object\n",
      " 2   Unnamed: 2  50 non-null     object\n",
      " 3   Unnamed: 3  12 non-null     object\n",
      " 4   Unnamed: 4  6 non-null      object\n",
      "dtypes: object(5)\n",
      "memory usage: 217.8+ KB\n"
     ]
    }
   ],
   "source": [
    "e_data.info()"
   ]
  },
  {
   "cell_type": "code",
   "execution_count": 6,
   "id": "111e85c7-6292-43ed-b5a8-caa1a155ea5b",
   "metadata": {},
   "outputs": [
    {
     "data": {
      "text/html": [
       "<div>\n",
       "<style scoped>\n",
       "    .dataframe tbody tr th:only-of-type {\n",
       "        vertical-align: middle;\n",
       "    }\n",
       "\n",
       "    .dataframe tbody tr th {\n",
       "        vertical-align: top;\n",
       "    }\n",
       "\n",
       "    .dataframe thead th {\n",
       "        text-align: right;\n",
       "    }\n",
       "</style>\n",
       "<table border=\"1\" class=\"dataframe\">\n",
       "  <thead>\n",
       "    <tr style=\"text-align: right;\">\n",
       "      <th></th>\n",
       "      <th>v1</th>\n",
       "      <th>v2</th>\n",
       "      <th>Unnamed: 2</th>\n",
       "      <th>Unnamed: 3</th>\n",
       "      <th>Unnamed: 4</th>\n",
       "    </tr>\n",
       "  </thead>\n",
       "  <tbody>\n",
       "    <tr>\n",
       "      <th>count</th>\n",
       "      <td>5572</td>\n",
       "      <td>5572</td>\n",
       "      <td>50</td>\n",
       "      <td>12</td>\n",
       "      <td>6</td>\n",
       "    </tr>\n",
       "    <tr>\n",
       "      <th>unique</th>\n",
       "      <td>2</td>\n",
       "      <td>5169</td>\n",
       "      <td>43</td>\n",
       "      <td>10</td>\n",
       "      <td>5</td>\n",
       "    </tr>\n",
       "    <tr>\n",
       "      <th>top</th>\n",
       "      <td>ham</td>\n",
       "      <td>Sorry, I'll call later</td>\n",
       "      <td>bt not his girlfrnd... G o o d n i g h t . . .@\"</td>\n",
       "      <td>MK17 92H. 450Ppw 16\"</td>\n",
       "      <td>GNT:-)\"</td>\n",
       "    </tr>\n",
       "    <tr>\n",
       "      <th>freq</th>\n",
       "      <td>4825</td>\n",
       "      <td>30</td>\n",
       "      <td>3</td>\n",
       "      <td>2</td>\n",
       "      <td>2</td>\n",
       "    </tr>\n",
       "  </tbody>\n",
       "</table>\n",
       "</div>"
      ],
      "text/plain": [
       "          v1                      v2  \\\n",
       "count   5572                    5572   \n",
       "unique     2                    5169   \n",
       "top      ham  Sorry, I'll call later   \n",
       "freq    4825                      30   \n",
       "\n",
       "                                               Unnamed: 2  \\\n",
       "count                                                  50   \n",
       "unique                                                 43   \n",
       "top      bt not his girlfrnd... G o o d n i g h t . . .@\"   \n",
       "freq                                                    3   \n",
       "\n",
       "                   Unnamed: 3 Unnamed: 4  \n",
       "count                      12          6  \n",
       "unique                     10          5  \n",
       "top      MK17 92H. 450Ppw 16\"    GNT:-)\"  \n",
       "freq                        2          2  "
      ]
     },
     "execution_count": 6,
     "metadata": {},
     "output_type": "execute_result"
    }
   ],
   "source": [
    "e_data.describe()"
   ]
  },
  {
   "cell_type": "code",
   "execution_count": 7,
   "id": "63785dc5-40e8-485d-9997-3d6a69d843fc",
   "metadata": {},
   "outputs": [
    {
     "data": {
      "text/plain": [
       "v1               0\n",
       "v2               0\n",
       "Unnamed: 2    5522\n",
       "Unnamed: 3    5560\n",
       "Unnamed: 4    5566\n",
       "dtype: int64"
      ]
     },
     "execution_count": 7,
     "metadata": {},
     "output_type": "execute_result"
    }
   ],
   "source": [
    "e_data.isnull().sum()"
   ]
  },
  {
   "cell_type": "code",
   "execution_count": 8,
   "id": "0eae7efd-ddfd-45d6-8c1c-5e0d07a2f832",
   "metadata": {},
   "outputs": [
    {
     "data": {
      "text/plain": [
       "Index(['v1', 'v2', 'Unnamed: 2', 'Unnamed: 3', 'Unnamed: 4'], dtype='object')"
      ]
     },
     "execution_count": 8,
     "metadata": {},
     "output_type": "execute_result"
    }
   ],
   "source": [
    "e_data.columns"
   ]
  },
  {
   "cell_type": "code",
   "execution_count": 9,
   "id": "211ff98d-d39f-4d51-b8aa-ff4a4875af92",
   "metadata": {},
   "outputs": [],
   "source": [
    "e_data.drop(columns=['Unnamed: 2', 'Unnamed: 3', 'Unnamed: 4'],inplace = True)"
   ]
  },
  {
   "cell_type": "code",
   "execution_count": 10,
   "id": "b12bb2ad-a117-4b5b-b793-235d634f6a8c",
   "metadata": {},
   "outputs": [
    {
     "data": {
      "text/plain": [
       "Index(['v1', 'v2'], dtype='object')"
      ]
     },
     "execution_count": 10,
     "metadata": {},
     "output_type": "execute_result"
    }
   ],
   "source": [
    "e_data.columns"
   ]
  },
  {
   "cell_type": "code",
   "execution_count": 11,
   "id": "5cd0f5cb-8567-4c9e-b3ce-4d0ee528aa08",
   "metadata": {},
   "outputs": [
    {
     "data": {
      "text/plain": [
       "v1    v2                                                                                                                                                                                                           \n",
       "ham   Sorry, I'll call later                                                                                                                                                                                           30\n",
       "      I cant pick the phone right now. Pls send a message                                                                                                                                                              12\n",
       "      Ok...                                                                                                                                                                                                            10\n",
       "spam  Please call our customer service representative on FREEPHONE 0808 145 4742 between 9am-11pm as you have WON a guaranteed å£1000 cash or å£5000 prize!                                                             4\n",
       "ham   Say this slowly.? GOD,I LOVE YOU &amp; I NEED YOU,CLEAN MY HEART WITH YOUR BLOOD.Send this to Ten special people &amp; u c miracle tomorrow, do it,pls,pls do it...                                               4\n",
       "                                                                                                                                                                                                                       ..\n",
       "      I wonder how you got online, my love ? Had you gone to the net cafe ? Did you get your phone recharged ? Were you on a friends net ? I think of you, boytoy                                                       1\n",
       "      I wish! I don't think its gonna snow that much. But it will be more than those flurries we usually get that melt before they hit the ground. Eek! We haven't had snow since &lt;#&gt; before I was even born!     1\n",
       "      I wish u were here. I feel so alone                                                                                                                                                                               1\n",
       "      I wish things were different. I wonder when i will be able to show you how much i value you. Pls continue the brisk walks no drugs without askin me please and find things to laugh about. I love you dearly.     1\n",
       "spam  we tried to contact you re your response to our offer of a new nokia fone and camcorder hit reply or call 08000930705 for delivery                                                                                1\n",
       "Name: count, Length: 5169, dtype: int64"
      ]
     },
     "execution_count": 11,
     "metadata": {},
     "output_type": "execute_result"
    }
   ],
   "source": [
    "e_data.value_counts()"
   ]
  },
  {
   "cell_type": "code",
   "execution_count": 12,
   "id": "3e300a20-a672-4d55-bdc5-1f41dafbda04",
   "metadata": {},
   "outputs": [
    {
     "data": {
      "text/plain": [
       "array(['ham', 'spam'], dtype=object)"
      ]
     },
     "execution_count": 12,
     "metadata": {},
     "output_type": "execute_result"
    }
   ],
   "source": [
    "e_data['v1'].unique()"
   ]
  },
  {
   "cell_type": "code",
   "execution_count": 13,
   "id": "39bc2504-2380-47ee-92e2-51bbb3f3fb6a",
   "metadata": {},
   "outputs": [
    {
     "data": {
      "text/plain": [
       "array(['Go until jurong point, crazy.. Available only in bugis n great world la e buffet... Cine there got amore wat...',\n",
       "       'Ok lar... Joking wif u oni...',\n",
       "       \"Free entry in 2 a wkly comp to win FA Cup final tkts 21st May 2005. Text FA to 87121 to receive entry question(std txt rate)T&C's apply 08452810075over18's\",\n",
       "       ..., 'Pity, * was in mood for that. So...any other suggestions?',\n",
       "       \"The guy did some bitching but I acted like i'd be interested in buying something else next week and he gave it to us for free\",\n",
       "       'Rofl. Its true to its name'], dtype=object)"
      ]
     },
     "execution_count": 13,
     "metadata": {},
     "output_type": "execute_result"
    }
   ],
   "source": [
    "e_data['v2'].unique()"
   ]
  },
  {
   "cell_type": "code",
   "execution_count": 14,
   "id": "15a76745-5785-4359-8fbe-ea15a8c84630",
   "metadata": {},
   "outputs": [
    {
     "data": {
      "text/plain": [
       "v1    0\n",
       "v2    0\n",
       "dtype: int64"
      ]
     },
     "execution_count": 14,
     "metadata": {},
     "output_type": "execute_result"
    }
   ],
   "source": [
    "e_data.isnull().sum()"
   ]
  },
  {
   "cell_type": "code",
   "execution_count": 15,
   "id": "be641313-aa16-4c17-8e4c-2e5f9aae32b9",
   "metadata": {},
   "outputs": [
    {
     "data": {
      "text/plain": [
       "(5572, 2)"
      ]
     },
     "execution_count": 15,
     "metadata": {},
     "output_type": "execute_result"
    }
   ],
   "source": [
    "e_data.shape"
   ]
  },
  {
   "cell_type": "code",
   "execution_count": 16,
   "id": "ef814aa5-386c-4e12-8afc-c2c920df39b5",
   "metadata": {},
   "outputs": [
    {
     "data": {
      "text/plain": [
       "11144"
      ]
     },
     "execution_count": 16,
     "metadata": {},
     "output_type": "execute_result"
    }
   ],
   "source": [
    "e_data.size"
   ]
  },
  {
   "cell_type": "code",
   "execution_count": 17,
   "id": "adb7ec5a-c872-476e-a861-4fef72e94a6c",
   "metadata": {},
   "outputs": [
    {
     "data": {
      "text/plain": [
       "403"
      ]
     },
     "execution_count": 17,
     "metadata": {},
     "output_type": "execute_result"
    }
   ],
   "source": [
    "e_data.duplicated().sum()"
   ]
  },
  {
   "cell_type": "markdown",
   "id": "a9a13d53-95d6-40f8-b087-6a4d03a30adc",
   "metadata": {},
   "source": [
    "# Splitting the data into features and labels"
   ]
  },
  {
   "cell_type": "code",
   "execution_count": 18,
   "id": "089c6082-0443-4c9a-bed0-4017936678f3",
   "metadata": {},
   "outputs": [],
   "source": [
    "X = e_data['v2']\n",
    "y = e_data['v1']"
   ]
  },
  {
   "cell_type": "code",
   "execution_count": 19,
   "id": "8bf583a9-5dec-4cd5-a652-5d41472042cc",
   "metadata": {},
   "outputs": [
    {
     "data": {
      "text/plain": [
       "0       Go until jurong point, crazy.. Available only ...\n",
       "1                           Ok lar... Joking wif u oni...\n",
       "2       Free entry in 2 a wkly comp to win FA Cup fina...\n",
       "3       U dun say so early hor... U c already then say...\n",
       "4       Nah I don't think he goes to usf, he lives aro...\n",
       "                              ...                        \n",
       "5567    This is the 2nd time we have tried 2 contact u...\n",
       "5568                Will Ì_ b going to esplanade fr home?\n",
       "5569    Pity, * was in mood for that. So...any other s...\n",
       "5570    The guy did some bitching but I acted like i'd...\n",
       "5571                           Rofl. Its true to its name\n",
       "Name: v2, Length: 5572, dtype: object"
      ]
     },
     "execution_count": 19,
     "metadata": {},
     "output_type": "execute_result"
    }
   ],
   "source": [
    "X"
   ]
  },
  {
   "cell_type": "code",
   "execution_count": 20,
   "id": "ab7ad1a3-e0b5-4fcf-87d5-9bb9abb62f97",
   "metadata": {},
   "outputs": [
    {
     "data": {
      "text/plain": [
       "0        ham\n",
       "1        ham\n",
       "2       spam\n",
       "3        ham\n",
       "4        ham\n",
       "        ... \n",
       "5567    spam\n",
       "5568     ham\n",
       "5569     ham\n",
       "5570     ham\n",
       "5571     ham\n",
       "Name: v1, Length: 5572, dtype: object"
      ]
     },
     "execution_count": 20,
     "metadata": {},
     "output_type": "execute_result"
    }
   ],
   "source": [
    "y"
   ]
  },
  {
   "cell_type": "markdown",
   "id": "f5cf7bd2-1a78-4167-9b03-972de32a56e0",
   "metadata": {},
   "source": [
    "# Converting text into numerical features"
   ]
  },
  {
   "cell_type": "code",
   "execution_count": 21,
   "id": "82dbee02-1b90-410a-b0a3-da893dfaafcb",
   "metadata": {},
   "outputs": [],
   "source": [
    "cv = CountVectorizer()"
   ]
  },
  {
   "cell_type": "code",
   "execution_count": 22,
   "id": "634a2505-8fd8-4081-9cd9-ea1e0edff548",
   "metadata": {},
   "outputs": [],
   "source": [
    "X = cv.fit_transform(X)"
   ]
  },
  {
   "cell_type": "code",
   "execution_count": 23,
   "id": "1fb663a7-4e94-4da6-89e9-2b9076c96cc6",
   "metadata": {},
   "outputs": [
    {
     "name": "stdout",
     "output_type": "stream",
     "text": [
      "  (0, 3550)\t1\n",
      "  (0, 8030)\t1\n",
      "  (0, 4350)\t1\n",
      "  (0, 5920)\t1\n",
      "  (0, 2327)\t1\n",
      "  (0, 1303)\t1\n",
      "  (0, 5537)\t1\n",
      "  (0, 4087)\t1\n",
      "  (0, 1751)\t1\n",
      "  (0, 3634)\t1\n",
      "  (0, 8489)\t1\n",
      "  (0, 4476)\t1\n",
      "  (0, 1749)\t1\n",
      "  (0, 2048)\t1\n",
      "  (0, 7645)\t1\n",
      "  (0, 3594)\t1\n",
      "  (0, 1069)\t1\n",
      "  (0, 8267)\t1\n",
      "  (1, 5504)\t1\n",
      "  (1, 4512)\t1\n",
      "  (1, 4318)\t1\n",
      "  (1, 8392)\t1\n",
      "  (1, 5533)\t1\n",
      "  (2, 4087)\t1\n",
      "  (2, 3358)\t1\n",
      "  :\t:\n",
      "  (5570, 4218)\t1\n",
      "  (5570, 8313)\t1\n",
      "  (5570, 1084)\t1\n",
      "  (5570, 4615)\t1\n",
      "  (5570, 7039)\t1\n",
      "  (5570, 3308)\t1\n",
      "  (5570, 7627)\t1\n",
      "  (5570, 1438)\t1\n",
      "  (5570, 5334)\t1\n",
      "  (5570, 2592)\t1\n",
      "  (5570, 8065)\t1\n",
      "  (5570, 1778)\t1\n",
      "  (5570, 7049)\t1\n",
      "  (5570, 2892)\t1\n",
      "  (5570, 3470)\t1\n",
      "  (5570, 1786)\t1\n",
      "  (5570, 3687)\t1\n",
      "  (5570, 4161)\t1\n",
      "  (5570, 903)\t1\n",
      "  (5570, 1546)\t1\n",
      "  (5571, 7756)\t1\n",
      "  (5571, 5244)\t1\n",
      "  (5571, 4225)\t2\n",
      "  (5571, 7885)\t1\n",
      "  (5571, 6505)\t1\n"
     ]
    }
   ],
   "source": [
    "print(X)"
   ]
  },
  {
   "cell_type": "markdown",
   "id": "8e206bef-d038-47f6-9cea-c70697698a49",
   "metadata": {},
   "source": [
    "# Splitting the data into training and testing sets"
   ]
  },
  {
   "cell_type": "code",
   "execution_count": 24,
   "id": "026cc70f-b67b-41f3-b029-02468646bdba",
   "metadata": {},
   "outputs": [],
   "source": [
    "X_train, X_test, y_train, y_test = train_test_split(X,y, test_size = 0.2, random_state = 2)"
   ]
  },
  {
   "cell_type": "code",
   "execution_count": 25,
   "id": "e19b745d-ee96-43aa-b42b-8e7165bc675f",
   "metadata": {},
   "outputs": [
    {
     "name": "stdout",
     "output_type": "stream",
     "text": [
      "  (0, 5367)\t1\n",
      "  (0, 1438)\t1\n",
      "  (0, 8402)\t1\n",
      "  (0, 8289)\t1\n",
      "  (0, 5477)\t1\n",
      "  (0, 7721)\t1\n",
      "  (0, 4727)\t1\n",
      "  (0, 6184)\t1\n",
      "  (0, 6080)\t1\n",
      "  (0, 7767)\t1\n",
      "  (0, 7131)\t1\n",
      "  (1, 8615)\t1\n",
      "  (1, 8069)\t1\n",
      "  (1, 2471)\t1\n",
      "  (1, 3703)\t1\n",
      "  (1, 1668)\t1\n",
      "  (2, 7024)\t1\n",
      "  (2, 1042)\t1\n",
      "  (2, 5367)\t1\n",
      "  (2, 4615)\t1\n",
      "  (2, 5223)\t1\n",
      "  (2, 5133)\t1\n",
      "  (2, 1778)\t1\n",
      "  (2, 2636)\t1\n",
      "  (2, 3345)\t1\n",
      "  :\t:\n",
      "  (4453, 4162)\t1\n",
      "  (4453, 8518)\t1\n",
      "  (4453, 8003)\t1\n",
      "  (4454, 4087)\t1\n",
      "  (4454, 5504)\t2\n",
      "  (4454, 8609)\t1\n",
      "  (4454, 6723)\t1\n",
      "  (4454, 8433)\t1\n",
      "  (4454, 4763)\t1\n",
      "  (4454, 3663)\t1\n",
      "  (4454, 4055)\t1\n",
      "  (4454, 2484)\t1\n",
      "  (4455, 5367)\t1\n",
      "  (4455, 8609)\t1\n",
      "  (4455, 3770)\t1\n",
      "  (4455, 1183)\t1\n",
      "  (4455, 8366)\t1\n",
      "  (4455, 4030)\t1\n",
      "  (4456, 7756)\t1\n",
      "  (4456, 5420)\t1\n",
      "  (4456, 8615)\t1\n",
      "  (4456, 3563)\t1\n",
      "  (4456, 7624)\t1\n",
      "  (4456, 7649)\t1\n",
      "  (4456, 6547)\t1\n"
     ]
    }
   ],
   "source": [
    "print(X_train)"
   ]
  },
  {
   "cell_type": "code",
   "execution_count": 26,
   "id": "b5620568-d0f0-4a5a-aefa-7462cbbec1c9",
   "metadata": {},
   "outputs": [
    {
     "data": {
      "text/plain": [
       "(1115, 8672)"
      ]
     },
     "execution_count": 26,
     "metadata": {},
     "output_type": "execute_result"
    }
   ],
   "source": [
    "X_test.shape"
   ]
  },
  {
   "cell_type": "code",
   "execution_count": 27,
   "id": "3109569c-5ccf-413e-840c-e14d1f9b3d24",
   "metadata": {},
   "outputs": [
    {
     "data": {
      "text/plain": [
       "(4457, 8672)"
      ]
     },
     "execution_count": 27,
     "metadata": {},
     "output_type": "execute_result"
    }
   ],
   "source": [
    "X_train.shape"
   ]
  },
  {
   "cell_type": "code",
   "execution_count": 28,
   "id": "47c12775-501f-42f3-9a96-0dbe2ed13d6e",
   "metadata": {},
   "outputs": [
    {
     "data": {
      "text/plain": [
       "(4457,)"
      ]
     },
     "execution_count": 28,
     "metadata": {},
     "output_type": "execute_result"
    }
   ],
   "source": [
    "y_train.shape"
   ]
  },
  {
   "cell_type": "code",
   "execution_count": 29,
   "id": "e5ea2e62-6eb4-4da1-8be1-0572a78bd818",
   "metadata": {},
   "outputs": [
    {
     "data": {
      "text/plain": [
       "(1115,)"
      ]
     },
     "execution_count": 29,
     "metadata": {},
     "output_type": "execute_result"
    }
   ],
   "source": [
    "y_test.shape"
   ]
  },
  {
   "cell_type": "markdown",
   "id": "b68804ca-8cdc-401c-82c4-e53420820bea",
   "metadata": {},
   "source": [
    "# Email spam detection using Naive-bayes Algorithm"
   ]
  },
  {
   "cell_type": "code",
   "execution_count": 30,
   "id": "0b8e5aa6-e61b-4841-9a00-adc6e92836b1",
   "metadata": {},
   "outputs": [],
   "source": [
    "# Creating a naive-bayes model\n",
    "model = MultinomialNB()"
   ]
  },
  {
   "cell_type": "code",
   "execution_count": 31,
   "id": "3a8758df-d3e4-46d7-944c-5c18ebe1e6b0",
   "metadata": {},
   "outputs": [
    {
     "data": {
      "text/html": [
       "<style>#sk-container-id-1 {color: black;}#sk-container-id-1 pre{padding: 0;}#sk-container-id-1 div.sk-toggleable {background-color: white;}#sk-container-id-1 label.sk-toggleable__label {cursor: pointer;display: block;width: 100%;margin-bottom: 0;padding: 0.3em;box-sizing: border-box;text-align: center;}#sk-container-id-1 label.sk-toggleable__label-arrow:before {content: \"▸\";float: left;margin-right: 0.25em;color: #696969;}#sk-container-id-1 label.sk-toggleable__label-arrow:hover:before {color: black;}#sk-container-id-1 div.sk-estimator:hover label.sk-toggleable__label-arrow:before {color: black;}#sk-container-id-1 div.sk-toggleable__content {max-height: 0;max-width: 0;overflow: hidden;text-align: left;background-color: #f0f8ff;}#sk-container-id-1 div.sk-toggleable__content pre {margin: 0.2em;color: black;border-radius: 0.25em;background-color: #f0f8ff;}#sk-container-id-1 input.sk-toggleable__control:checked~div.sk-toggleable__content {max-height: 200px;max-width: 100%;overflow: auto;}#sk-container-id-1 input.sk-toggleable__control:checked~label.sk-toggleable__label-arrow:before {content: \"▾\";}#sk-container-id-1 div.sk-estimator input.sk-toggleable__control:checked~label.sk-toggleable__label {background-color: #d4ebff;}#sk-container-id-1 div.sk-label input.sk-toggleable__control:checked~label.sk-toggleable__label {background-color: #d4ebff;}#sk-container-id-1 input.sk-hidden--visually {border: 0;clip: rect(1px 1px 1px 1px);clip: rect(1px, 1px, 1px, 1px);height: 1px;margin: -1px;overflow: hidden;padding: 0;position: absolute;width: 1px;}#sk-container-id-1 div.sk-estimator {font-family: monospace;background-color: #f0f8ff;border: 1px dotted black;border-radius: 0.25em;box-sizing: border-box;margin-bottom: 0.5em;}#sk-container-id-1 div.sk-estimator:hover {background-color: #d4ebff;}#sk-container-id-1 div.sk-parallel-item::after {content: \"\";width: 100%;border-bottom: 1px solid gray;flex-grow: 1;}#sk-container-id-1 div.sk-label:hover label.sk-toggleable__label {background-color: #d4ebff;}#sk-container-id-1 div.sk-serial::before {content: \"\";position: absolute;border-left: 1px solid gray;box-sizing: border-box;top: 0;bottom: 0;left: 50%;z-index: 0;}#sk-container-id-1 div.sk-serial {display: flex;flex-direction: column;align-items: center;background-color: white;padding-right: 0.2em;padding-left: 0.2em;position: relative;}#sk-container-id-1 div.sk-item {position: relative;z-index: 1;}#sk-container-id-1 div.sk-parallel {display: flex;align-items: stretch;justify-content: center;background-color: white;position: relative;}#sk-container-id-1 div.sk-item::before, #sk-container-id-1 div.sk-parallel-item::before {content: \"\";position: absolute;border-left: 1px solid gray;box-sizing: border-box;top: 0;bottom: 0;left: 50%;z-index: -1;}#sk-container-id-1 div.sk-parallel-item {display: flex;flex-direction: column;z-index: 1;position: relative;background-color: white;}#sk-container-id-1 div.sk-parallel-item:first-child::after {align-self: flex-end;width: 50%;}#sk-container-id-1 div.sk-parallel-item:last-child::after {align-self: flex-start;width: 50%;}#sk-container-id-1 div.sk-parallel-item:only-child::after {width: 0;}#sk-container-id-1 div.sk-dashed-wrapped {border: 1px dashed gray;margin: 0 0.4em 0.5em 0.4em;box-sizing: border-box;padding-bottom: 0.4em;background-color: white;}#sk-container-id-1 div.sk-label label {font-family: monospace;font-weight: bold;display: inline-block;line-height: 1.2em;}#sk-container-id-1 div.sk-label-container {text-align: center;}#sk-container-id-1 div.sk-container {/* jupyter's `normalize.less` sets `[hidden] { display: none; }` but bootstrap.min.css set `[hidden] { display: none !important; }` so we also need the `!important` here to be able to override the default hidden behavior on the sphinx rendered scikit-learn.org. See: https://github.com/scikit-learn/scikit-learn/issues/21755 */display: inline-block !important;position: relative;}#sk-container-id-1 div.sk-text-repr-fallback {display: none;}</style><div id=\"sk-container-id-1\" class=\"sk-top-container\"><div class=\"sk-text-repr-fallback\"><pre>MultinomialNB()</pre><b>In a Jupyter environment, please rerun this cell to show the HTML representation or trust the notebook. <br />On GitHub, the HTML representation is unable to render, please try loading this page with nbviewer.org.</b></div><div class=\"sk-container\" hidden><div class=\"sk-item\"><div class=\"sk-estimator sk-toggleable\"><input class=\"sk-toggleable__control sk-hidden--visually\" id=\"sk-estimator-id-1\" type=\"checkbox\" checked><label for=\"sk-estimator-id-1\" class=\"sk-toggleable__label sk-toggleable__label-arrow\">MultinomialNB</label><div class=\"sk-toggleable__content\"><pre>MultinomialNB()</pre></div></div></div></div></div>"
      ],
      "text/plain": [
       "MultinomialNB()"
      ]
     },
     "execution_count": 31,
     "metadata": {},
     "output_type": "execute_result"
    }
   ],
   "source": [
    "# Training the spam detector model\n",
    "model.fit(X_train,y_train)"
   ]
  },
  {
   "cell_type": "code",
   "execution_count": 32,
   "id": "14149c88-e779-4cd6-aefb-1669009d885e",
   "metadata": {},
   "outputs": [],
   "source": [
    "# Making predictions on the test set\n",
    "y_pred = model.predict(X_test)"
   ]
  },
  {
   "cell_type": "markdown",
   "id": "527ce358-e703-40f6-a319-5680cb628b09",
   "metadata": {},
   "source": [
    "# Evaluating the Model's accuracy"
   ]
  },
  {
   "cell_type": "code",
   "execution_count": 33,
   "id": "ef5b4a05-550d-4d45-a6ee-213526271fef",
   "metadata": {},
   "outputs": [],
   "source": [
    "# Calculating the accuracy of the model\n",
    "accuracy = accuracy_score(y_test,y_pred)*100"
   ]
  },
  {
   "cell_type": "code",
   "execution_count": 34,
   "id": "03c38c04-f929-4e55-ac1d-6355743dadda",
   "metadata": {},
   "outputs": [
    {
     "name": "stdout",
     "output_type": "stream",
     "text": [
      "The accuracy of the spam detector model is: 97.57847533632287\n"
     ]
    }
   ],
   "source": [
    "print(\"The accuracy of the spam detector model is:\", accuracy)"
   ]
  },
  {
   "cell_type": "markdown",
   "id": "5a2dc6e3-0c00-48ed-a4c7-a5a86e62340d",
   "metadata": {},
   "source": [
    "# Visualizing the Accuracy"
   ]
  },
  {
   "cell_type": "code",
   "execution_count": 35,
   "id": "22cf62ed-9461-4efb-a447-c034de86e702",
   "metadata": {},
   "outputs": [
    {
     "data": {
      "image/png": "[encoded data removed]",
      "text/plain": [
       "<Figure size 640x480 with 1 Axes>"
      ]
     },
     "metadata": {},
     "output_type": "display_data"
    }
   ],
   "source": [
    "plt.hist([accuracy],bins=4)\n",
    "plt.ylim(0,1) \n",
    "plt.xlabel(\"Accuracy\")\n",
    "plt.ylabel('Frequency')\n",
    "plt.title('Accuracy of Spam Detector Model')\n",
    "plt.show()"
   ]
  },
  {
   "cell_type": "code",
   "execution_count": null,
   "id": "779ac96d-358c-4541-9cc3-efc7f3633ba3",
   "metadata": {},
   "outputs": [],
   "source": []
  }
 ],
 "metadata": {
  "kernelspec": {
   "display_name": "Python 3 (ipykernel)",
   "language": "python",
   "name": "python3"
  },
  "language_info": {
   "codemirror_mode": {
    "name": "ipython",
    "version": 3
   },
   "file_extension": ".py",
   "mimetype": "text/x-python",
   "name": "python",
   "nbconvert_exporter": "python",
   "pygments_lexer": "ipython3",
   "version": "3.11.4"
  }
 },
 "nbformat": 4,
 "nbformat_minor": 5
}
